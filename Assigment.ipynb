{
 "cells": [
  {
   "cell_type": "markdown",
   "id": "6128a764-e706-4b8e-97de-2b934ef723cb",
   "metadata": {},
   "source": [
    "Q1.  Explain with an example each when to use a for loop and a while loop."
   ]
  },
  {
   "cell_type": "markdown",
   "id": "eec18ac7-0180-4c2d-96ec-e3631e3e7ef3",
   "metadata": {},
   "source": [
    "For loop: A for loop is a control flow statement that executes code repeatedly for a particular number of iterations. In this control flow statement, the keyword used is for. The for loop is used when the number of iterations is already known.\n",
    "\n",
    "While loop: A loop that executes a single statement or a group of statements for the given true condition. The keyword used to represent this loop is \"while\". A \"while\" loop is used when the number of iterations is unknown. The statement repeats itself till the boolean value becomes false. In a while loop, the condition is tested at the start, also known as the pre-test loop. Let's see the flow of the while loop:\n",
    "Initialise the starting value\n",
    "Check that the starting value is less than the stopping value.\n",
    "Execute the statement.\n",
    "Increment the starting value. Let’s see how the while loop works."
   ]
  },
  {
   "cell_type": "markdown",
   "id": "75009cb0-c7a3-4dc7-91e0-cf1c87eeb925",
   "metadata": {},
   "source": [
    "Q2.  Write a python program to print the sum and product of the first 10 natural numbers using for \n",
    "and while loop"
   ]
  },
  {
   "cell_type": "code",
   "execution_count": 27,
   "id": "099525b7-ffd5-4d50-bfee-28fbf3d1f405",
   "metadata": {},
   "outputs": [
    {
     "name": "stdin",
     "output_type": "stream",
     "text": [
      "Enter the number 10\n"
     ]
    },
    {
     "name": "stdout",
     "output_type": "stream",
     "text": [
      "sum of all th first 10 natural number is : 55\n"
     ]
    }
   ],
   "source": [
    "# USING WHILE LOOP PRINTING THE SUM OF FIRST 10 NATURAL NUMBER\n",
    "n = int(input(\"Enter the number\"))\n",
    "start = 0\n",
    "count = 1\n",
    "while count <= n:\n",
    "    start = start+count\n",
    "    count = count +1\n",
    "print(\"sum of all th first 10 natural number is :\" , start)"
   ]
  },
  {
   "cell_type": "code",
   "execution_count": 29,
   "id": "c2541c7f-44c3-4c60-aedf-25264bea9af8",
   "metadata": {},
   "outputs": [
    {
     "name": "stdin",
     "output_type": "stream",
     "text": [
      "Enter the number2 3\n"
     ]
    },
    {
     "name": "stdout",
     "output_type": "stream",
     "text": [
      "sum of all th first 10 natural number is : 6\n"
     ]
    }
   ],
   "source": [
    "# USING WHILE LOOP PRINTING THE PRODUCT OF FIRST 10 NATURAL NUMBER\n",
    "n1 = int(input(\"Enter the number2\"))\n",
    "start1 = 1\n",
    "count = 1\n",
    "while count <= n1:\n",
    "    start1 = start1*count\n",
    "    count = count +1\n",
    "print(\"product of all th first 10 natural number is :\" , start1)"
   ]
  },
  {
   "cell_type": "code",
   "execution_count": 43,
   "id": "53a1f0c9-46b2-49b0-8e3a-06bbc408fd84",
   "metadata": {},
   "outputs": [
    {
     "name": "stdin",
     "output_type": "stream",
     "text": [
      "Enter the number 10\n"
     ]
    },
    {
     "name": "stdout",
     "output_type": "stream",
     "text": [
      "sum of all th first 10 natural number is : 55\n"
     ]
    }
   ],
   "source": [
    "# USING for LOOP PRINTING THE SUM OF FIRST 10 NATURAL NUMBER\n",
    "n = int(input(\"Enter the number\"))\n",
    "total_sum = 0\n",
    "for i in range(1,n+1):\n",
    "    total_sum += i\n",
    "print(\"sum of all th first 10 natural number is :\" , total_sum)"
   ]
  },
  {
   "cell_type": "code",
   "execution_count": 48,
   "id": "1dba2ce1-a208-4149-aed6-31bb5a1f4833",
   "metadata": {},
   "outputs": [
    {
     "name": "stdin",
     "output_type": "stream",
     "text": [
      "Enter the number 3\n"
     ]
    },
    {
     "name": "stdout",
     "output_type": "stream",
     "text": [
      "sum of all th first 10 natural number is : 6\n"
     ]
    }
   ],
   "source": [
    "# USING for LOOP PRINTING THE PRODUCT OF FIRST 10 NATURAL NUMBER\n",
    "n = int(input(\"Enter the number\"))\n",
    "total_product = 1\n",
    "for i in range(1,n+1):\n",
    "    total_product *= i\n",
    "print(\"sum of all th first 10 natural number is :\" , total_product)    \n"
   ]
  },
  {
   "cell_type": "markdown",
   "id": "be61816e-900d-4807-bf6d-61fef9501be7",
   "metadata": {},
   "source": [
    "Q3. Create a python program to compute the electricity bill for a household.\n",
    "The per-unit charges in rupees are as follows: For the first 100 units, the user will be charged Rs. 4.5 per \n",
    "unit, for the next 100 units, the user will be charged Rs. 6 per unit, and for the next 100 units, the user will \n",
    "be charged Rs. 10 per unit, After 300 units and above the user will be charged Rs. 20 per unit.\n",
    "You are required to take the units of electricity consumed in a month from the user as input.\n",
    "\n",
    "Your program must pass this test case: when the unit of electricity consumed by the user in a month is \n",
    "310, the total electricity bill should be 2250."
   ]
  },
  {
   "cell_type": "code",
   "execution_count": 5,
   "id": "552df31b-28ea-4d83-8868-39f03517321f",
   "metadata": {},
   "outputs": [
    {
     "name": "stdin",
     "output_type": "stream",
     "text": [
      "Enter the unit of electricity consumed by the user in a month is 310\n"
     ]
    },
    {
     "data": {
      "text/plain": [
       "2250"
      ]
     },
     "execution_count": 5,
     "metadata": {},
     "output_type": "execute_result"
    }
   ],
   "source": [
    "unit = int(input(\"Enter the unit of electricity consumed by the user in a month is\"))\n",
    "if unit <= 100:\n",
    "    bill = unit*4.5\n",
    "elif unit >= 101 and unit <= 200:\n",
    "    bill = 450+((unit-100)*6)\n",
    "elif unit >= 201 and unit <=300:\n",
    "    bill = 450+600+((unit-200)*10)\n",
    "else:\n",
    "    bill = 450+600+1000+((unit-300)*20)\n",
    "bill"
   ]
  },
  {
   "cell_type": "markdown",
   "id": "b4c52dde-d6bb-4e64-9669-bfce8fccdce3",
   "metadata": {},
   "source": [
    "Q4. Create a list of numbers from 1 to 100. Use for loop and while loop to calculate the cube of each \n",
    "number and if the cube of that number is divisible by 4 or 5 then append that number in a list and print \n",
    "that list."
   ]
  },
  {
   "cell_type": "code",
   "execution_count": 13,
   "id": "4bdf3504-84d7-4e59-8ae5-60c1ba8edea5",
   "metadata": {},
   "outputs": [
    {
     "name": "stdout",
     "output_type": "stream",
     "text": [
      "Cubes of numbers divisible by 4 or 5 (using for loop):  [12, 15, 24, 30, 36, 45, 48, 60, 72, 75, 84, 90, 96, 105, 108, 120, 132, 135, 144, 150, 156, 165, 168, 180, 192, 195, 204, 210, 216, 225, 228, 240, 252, 255, 264, 270, 276, 285, 288, 300]\n"
     ]
    }
   ],
   "source": [
    "# Using for loop\n",
    "numbers = [i for i in range(1, 101)]\n",
    "cubes_divisible_by_4_or_5 = []\n",
    "for num in numbers:\n",
    "    cube = num*3\n",
    "    if cube % 4 == 0 or cube % 5 == 0:\n",
    "        cubes_divisible_by_4_or_5.append(cube)\n",
    "\n",
    "print(\"Cubes of numbers divisible by 4 or 5 (using for loop): \", cubes_divisible_by_4_or_5)"
   ]
  },
  {
   "cell_type": "code",
   "execution_count": 9,
   "id": "0789288c-c73a-4ee0-b918-0b310aea403d",
   "metadata": {},
   "outputs": [
    {
     "name": "stdout",
     "output_type": "stream",
     "text": [
      "Cubes of numbers divisible by 4 or 5 (using while loop):  [12, 15, 24, 30, 36, 45, 48, 60, 72, 75, 84, 90, 96, 105, 108, 120, 132, 135, 144, 150, 156, 165, 168, 180, 192, 195, 204, 210, 216, 225, 228, 240, 252, 255, 264, 270, 276, 285, 288, 300]\n"
     ]
    }
   ],
   "source": [
    "# Using while loop\n",
    "numbers = [i for i in range(1, 101)]\n",
    "cubes_divisible_by_4_or_5 = []\n",
    "index = 0\n",
    "while index < len(numbers):\n",
    "    cube = numbers[index]*3\n",
    "    if cube % 4 == 0 or cube % 5 == 0:\n",
    "        cubes_divisible_by_4_or_5.append(cube)\n",
    "    index += 1\n",
    "\n",
    "print(\"Cubes of numbers divisible by 4 or 5 (using while loop): \", cubes_divisible_by_4_or_5)"
   ]
  },
  {
   "cell_type": "markdown",
   "id": "a805a488-eeb0-43e7-8a11-b13b65f5e301",
   "metadata": {},
   "source": [
    "Write a program to filter count vowels in the below-given string.\n",
    "\n",
    "string = \"I want to become a data scientist\""
   ]
  },
  {
   "cell_type": "code",
   "execution_count": 19,
   "id": "88dc1620-0497-4fee-ba69-2ff18e02a2f0",
   "metadata": {},
   "outputs": [
    {
     "name": "stdout",
     "output_type": "stream",
     "text": [
      "No. of vowels : 12\n"
     ]
    }
   ],
   "source": [
    "str = \"I want to become a data scientist\"\n",
    "vowel = set(\"aeiouAEIOU\")\n",
    "count = 0\n",
    "for alphabet in str:\n",
    "     if alphabet in vowel:\n",
    "            count = count + 1\n",
    "print(\"No. of vowels :\", count)"
   ]
  },
  {
   "cell_type": "code",
   "execution_count": null,
   "id": "9e2422ef-16e0-40c2-9895-e26d8c1baeeb",
   "metadata": {},
   "outputs": [],
   "source": []
  },
  {
   "cell_type": "code",
   "execution_count": null,
   "id": "5c3c37fd-0099-4151-9232-71abae6de6d6",
   "metadata": {},
   "outputs": [],
   "source": []
  }
 ],
 "metadata": {
  "kernelspec": {
   "display_name": "Python 3 (ipykernel)",
   "language": "python",
   "name": "python3"
  },
  "language_info": {
   "codemirror_mode": {
    "name": "ipython",
    "version": 3
   },
   "file_extension": ".py",
   "mimetype": "text/x-python",
   "name": "python",
   "nbconvert_exporter": "python",
   "pygments_lexer": "ipython3",
   "version": "3.10.8"
  }
 },
 "nbformat": 4,
 "nbformat_minor": 5
}
